{
 "cells": [
  {
   "cell_type": "code",
   "execution_count": 16,
   "metadata": {},
   "outputs": [],
   "source": [
    "from selenium import webdriver\n",
    "from selenium.webdriver.common.keys import Keys\n",
    "from selenium.webdriver.common.by import By\n",
    "from selenium.webdriver.support.ui import WebDriverWait\n",
    "from selenium.webdriver.support import expected_conditions as EC\n",
    "from bs4 import BeautifulSoup"
   ]
  },
  {
   "cell_type": "code",
   "execution_count": 22,
   "metadata": {},
   "outputs": [
    {
     "name": "stdout",
     "output_type": "stream",
     "text": [
      "Search your item: macbook pro\n",
      "\n",
      "Amazon search: https://www.amazon.com/s?k=+macbook+pro\n",
      "Ebay search: https://www.ebay.co.uk/sch/i.html?_odkw=macbook&_osacat=0&_from=R40&_trksid=p2045573.m570.l1313.TR12.TRC2.A0.H0.Xmacbook+pro.TRS0&_nkw=+macbook+pro\n",
      "\n"
     ]
    }
   ],
   "source": [
    "base_url = 'https://www.ebay.co.uk/sch/i.html?_odkw=macbook&_osacat=0&_from=R40&_trksid=p2045573.m570.l1313.TR12.TRC2.A0.H0.Xmacbook+pro.TRS0&_nkw='\n",
    "components = str(input('Search your item: ')).split()\n",
    "base_amazon_url = 'https://www.amazon.com/s?k='\n",
    "\n",
    "def make_url(base, comp):\n",
    "    url = base_url\n",
    "    \n",
    "    # add each component to the base url\n",
    "    for r in comp:\n",
    "        url = '{}+{}'.format(url, r)\n",
    "        \n",
    "    return url\n",
    "\n",
    "def make_amazon_url(base, comp):\n",
    "    amazon_url = base_amazon_url\n",
    "\n",
    "    for a in comp:\n",
    "        amazon_url = '{}+{}'.format(amazon_url, a)\n",
    "    return amazon_url\n",
    "\n",
    "\n",
    "amazon_url = make_amazon_url(base_amazon_url, components)\n",
    "Ebay_url =  make_url(base_url, components)\n",
    "print(\"\"\"\n",
    "Amazon search: {}\n",
    "Ebay search: {}\n",
    "\"\"\".format(amazon_url, Ebay_url))"
   ]
  },
  {
   "cell_type": "code",
   "execution_count": 18,
   "metadata": {},
   "outputs": [],
   "source": [
    "PATH = \"C:\\Program Files (x86)\\chromedriver.exe\"\n",
    "driver = webdriver.Chrome(PATH)\n",
    "driver.get(make_url(base_url, components))\n",
    "\n",
    "#for Ebay\n",
    "try:\n",
    "    main = WebDriverWait(driver, 10).until(\n",
    "        EC.presence_of_element_located((By.ID, \"srp-river-results\"))\n",
    "    )\n",
    "    html_doc = driver.page_source\n",
    "    soup = BeautifulSoup(html_doc,'lxml')\n",
    "finally:\n",
    "    driver.quit()"
   ]
  },
  {
   "cell_type": "code",
   "execution_count": 19,
   "metadata": {},
   "outputs": [
    {
     "name": "stdout",
     "output_type": "stream",
     "text": [
      "Title: Genuine Apple AirPods 2nd generation with Charging Case White Bluetooth 2019\n",
      "Total Reviews: 361\n",
      "Price: £134.99\n",
      "Link: https://www.ebay.co.uk/itm/Genuine-Apple-AirPods-2nd-generation-with-Charging-Case-White-Bluetooth-2019/283488038713?epid=14030715592&hash=item4201342f39:g:ec0AAOSw8ZhdNdzB\n",
      "\n"
     ]
    }
   ],
   "source": [
    "#for ebay\n",
    "item = soup.find('div', class_='s-item__wrapper clearfix')\n",
    "try:\n",
    "    review_count = item.find('span', class_='s-item__reviews-count').text\n",
    "except:\n",
    "    pass\n",
    "\n",
    "review_list = []\n",
    "review_list_title = []\n",
    "title_list = []\n",
    "price_list = []\n",
    "link_list = []\n",
    "star_list = []\n",
    "for item in soup.find_all('div', class_='s-item__wrapper clearfix'):\n",
    "    \n",
    "    try:\n",
    "        review_count = item.find('span', class_='s-item__reviews-count').text\n",
    "        review_count_int = int(review_count.split()[0])\n",
    "        review_list.append(review_count_int)\n",
    "        \n",
    "    except:\n",
    "        pass\n",
    "        review_list.append(0)\n",
    "        index = review_list.index(max(review_list))\n",
    "    \n",
    "    title = item.h3.text\n",
    "    title_list.append(title)\n",
    "    \n",
    "    itemprice = item.find('span', class_='s-item__price').text\n",
    "    price_list.append(itemprice)\n",
    "    \n",
    "    link = item.find('div', class_='s-item__info clearfix').a['href']\n",
    "    link_list.append(link)\n",
    "    \n",
    "print(\"\"\"Title: {}\n",
    "Total Reviews: {}\n",
    "Price: {}\n",
    "Link: {}\n",
    "\"\"\".format(title_list[index] ,review_list[index], price_list[index], link_list[index]))"
   ]
  },
  {
   "cell_type": "code",
   "execution_count": 20,
   "metadata": {},
   "outputs": [],
   "source": [
    "adriver = webdriver.Chrome(PATH)\n",
    "adriver.get(amazon_url)\n",
    "\n",
    "try:\n",
    "    main = WebDriverWait(adriver, 10).until(\n",
    "        EC.presence_of_element_located((By.CLASS_NAME, \"sg-col-inner\"))\n",
    "    )\n",
    "    html_doc_a = adriver.page_source\n",
    "    soup = BeautifulSoup(html_doc_a,'lxml')\n",
    "finally:\n",
    "    adriver.quit()"
   ]
  },
  {
   "cell_type": "code",
   "execution_count": 21,
   "metadata": {},
   "outputs": [
    {
     "name": "stdout",
     "output_type": "stream",
     "text": [
      "Title: Bluetooth Earbuds, Bluetooth 5.0 Headphones Wireless Earbuds 35H Cycle Playtime in-Ear Wireless Headphones Hi-Fi Stereo Sweatproof Earphones Sport Headsets Built-in Mic for Work/Running/Travel/Gym\n",
      "Total Reviews: 533\n",
      "Price: $28\n",
      "Link: https://amazon.com/Bluetooth-Headphones-Wireless-Sweatproof-Earphones/dp/B0839BFCK7/ref=sr_1_8?dchild=1&keywords=airpods&qid=1589810621&sr=8-8\n",
      "\n"
     ]
    }
   ],
   "source": [
    "aitem = soup.find('div', class_='s-include-content-margin s-border-bottom s-latency-cf-section')\n",
    "\n",
    "areview_list = []\n",
    "astar_list = []\n",
    "atitle_list = []\n",
    "alink_list = []\n",
    "aprice_list = []\n",
    "\n",
    "for aitem in soup.find_all('div', class_='s-include-content-margin s-border-bottom s-latency-cf-section'):\n",
    "\n",
    "    try:\n",
    "        areview = int(aitem.find('span', class_='a-size-base').text)\n",
    "        astar = aitem.find('span', class_='a-icon-alt').text\n",
    "        areview_list.append(areview)\n",
    "        astar_list.append(astar)\n",
    "        aprice = aitem.find('span', class_='a-price-whole').text\n",
    "        aprice_list.append(aprice)\n",
    "    except:\n",
    "        pass\n",
    "        areview_list.append(0)\n",
    "        astar_list.append(0)\n",
    "        aprice_list.append('Item not available in your region'.upper())\n",
    "        aindex = areview_list.index(max(areview_list))\n",
    "    \n",
    "    atitle = aitem.find('span', class_='a-size-medium a-color-base a-text-normal').text\n",
    "    atitle_list.append(atitle)\n",
    "    \n",
    "    alink = aitem.find('a', class_='a-link-normal')['href']\n",
    "    alink_list.append(alink)\n",
    "print(\"\"\"Title: {}\n",
    "Total Reviews: {}\n",
    "Price: ${}\n",
    "Link: https://amazon.com{}\n",
    "\"\"\".format(atitle_list[aindex], areview_list[aindex], aprice_list[aindex][:-1], alink_list[aindex]))"
   ]
  }
 ],
 "metadata": {
  "kernelspec": {
   "display_name": "Python 3",
   "language": "python",
   "name": "python3"
  },
  "language_info": {
   "codemirror_mode": {
    "name": "ipython",
    "version": 3
   },
   "file_extension": ".py",
   "mimetype": "text/x-python",
   "name": "python",
   "nbconvert_exporter": "python",
   "pygments_lexer": "ipython3",
   "version": "3.8.2"
  }
 },
 "nbformat": 4,
 "nbformat_minor": 4
}
